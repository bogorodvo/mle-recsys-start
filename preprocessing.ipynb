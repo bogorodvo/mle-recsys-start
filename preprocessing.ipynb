{
 "cells": [
  {
   "cell_type": "markdown",
   "id": "6c9d506c-9c8c-4707-9613-02510f8b4518",
   "metadata": {},
   "source": [
    "# Описание данных"
   ]
  },
  {
   "cell_type": "markdown",
   "id": "a7c572ed-5df4-4ad3-8a20-d691bafeb261",
   "metadata": {},
   "source": [
    "Данные - специально подготовленная выборка из полного набора, описанного здесь: https://mengtingwan.github.io/data/goodreads#datasets с дополнениями из https://www.kaggle.com/datasets/austinreese/goodreads-books:\n",
    "- books: перечень книг (~44 тыс.) из списка https://www.goodreads.com/list/show/1.Best_Books_Ever (совпадение по book id),\n",
    "- interactions: взаимодействие пользователей с книгами\n",
    "\n",
    "Основной массив данных был собран в конце 2017."
   ]
  },
  {
   "cell_type": "markdown",
   "id": "b3589a9a-ce16-4d2e-b581-d75139fc58b3",
   "metadata": {},
   "source": [
    "# Инициализация"
   ]
  },
  {
   "cell_type": "code",
   "execution_count": 1,
   "id": "c6e28b2f-3822-4e27-b576-9bc42b279b32",
   "metadata": {},
   "outputs": [],
   "source": [
    "import logging\n",
    "\n",
    "import matplotlib.pyplot as plt\n",
    "import numpy as np\n",
    "import pandas as pd"
   ]
  },
  {
   "cell_type": "code",
   "execution_count": 2,
   "id": "4e53bc65-3e32-454b-b353-e9b95489c26c",
   "metadata": {},
   "outputs": [],
   "source": [
    "%matplotlib inline\n",
    "%config InlineBackend.figure_format = 'png'\n",
    "%config InlineBackend.figure_format = 'retina'"
   ]
  },
  {
   "cell_type": "markdown",
   "id": "f8e9a344-d270-4cdb-8f45-5661083c9463",
   "metadata": {},
   "source": [
    "Создаём логгер, который удобен для использования в ноутбуке."
   ]
  },
  {
   "cell_type": "markdown",
   "id": "e8b1d982-8795-45c2-b221-6e5a07eaa150",
   "metadata": {},
   "source": [
    "# Load Data"
   ]
  },
  {
   "cell_type": "markdown",
   "id": "b337b175-a36a-48a6-9d8d-68c0a9acd80f",
   "metadata": {},
   "source": [
    "Загружаем данные как они есть, начинаем на них смотреть: какие в них есть сущности, атрибуты, распределения."
   ]
  },
  {
   "cell_type": "code",
   "execution_count": 3,
   "id": "2765664a-bbab-4dee-baae-ad31c251808a",
   "metadata": {},
   "outputs": [],
   "source": [
    "books = pd.read_parquet(\"./goodsread/books.parquet\")"
   ]
  },
  {
   "cell_type": "code",
   "execution_count": 4,
   "id": "edc94bb6-feda-4ee7-95fb-cece33c79fc9",
   "metadata": {},
   "outputs": [
    {
     "name": "stdout",
     "output_type": "stream",
     "text": [
      "<class 'pandas.core.frame.DataFrame'>\n",
      "Index: 43312 entries, 3 to 2360448\n",
      "Data columns (total 19 columns):\n",
      " #   Column                Non-Null Count  Dtype  \n",
      "---  ------                --------------  -----  \n",
      " 0   book_id               43312 non-null  int64  \n",
      " 1   author                43312 non-null  object \n",
      " 2   title                 43312 non-null  object \n",
      " 3   description           43312 non-null  object \n",
      " 4   genre_and_votes       43312 non-null  object \n",
      " 5   num_pages             37001 non-null  Int64  \n",
      " 6   average_rating        43312 non-null  float64\n",
      " 7   ratings_count         43312 non-null  Int64  \n",
      " 8   text_reviews_count    43312 non-null  int64  \n",
      " 9   publisher             43312 non-null  object \n",
      " 10  publication_year      35891 non-null  Int64  \n",
      " 11  country_code          43312 non-null  object \n",
      " 12  language_code         43312 non-null  object \n",
      " 13  format                43312 non-null  object \n",
      " 14  is_ebook              43312 non-null  bool   \n",
      " 15  isbn                  43312 non-null  object \n",
      " 16  isbn13                43312 non-null  object \n",
      " 17  genre_and_votes_dict  42391 non-null  object \n",
      " 18  genre_and_votes_str   42391 non-null  object \n",
      "dtypes: Int64(3), bool(1), float64(1), int64(2), object(12)\n",
      "memory usage: 6.4+ MB\n"
     ]
    }
   ],
   "source": [
    "books.info()"
   ]
  },
  {
   "cell_type": "markdown",
   "id": "46407f64-2498-4d3d-b887-7ee17f5b6f7b",
   "metadata": {},
   "source": [
    "Пример данных по книгам"
   ]
  },
  {
   "cell_type": "code",
   "execution_count": 5,
   "id": "b97acb5c-49aa-4f93-ab72-ea93c0618567",
   "metadata": {},
   "outputs": [
    {
     "name": "stdout",
     "output_type": "stream",
     "text": [
      "                                             author                                            title  num_pages  average_rating\n",
      "book_id                                                                                                                        \n",
      "69882                 Heinrich Böll, Patrick Bowles                      Billiards at Half-Past Nine        288            3.93\n",
      "267533                               Robert Cormier                                         8 Plus 1        173            3.67\n",
      "820966    Martin Luther, J.I. Packer, O.R. Johnston                          The Bondage of the Will        322            4.17\n",
      "4532622                               Karen Hancock                                      The Enclave        492            3.82\n",
      "20444381                             Diana Gabaldon  Os tambores de outono - 1ª Parte (Outlander #4)       1048            3.99\n"
     ]
    }
   ],
   "source": [
    "print(books[[\"book_id\", \"author\", \"title\", \"num_pages\", \"average_rating\"]].sample(5, random_state=52).sort_values(\"book_id\").set_index(\"book_id\").to_string())"
   ]
  },
  {
   "cell_type": "code",
   "execution_count": 6,
   "id": "507063c3-58c2-4d27-b415-4695f05ae0b0",
   "metadata": {},
   "outputs": [],
   "source": [
    "interactions = pd.read_parquet(\"./goodsread/interactions.parquet\")"
   ]
  },
  {
   "cell_type": "markdown",
   "id": "1975129a-283c-4f61-800e-cad9515e6f5f",
   "metadata": {},
   "source": [
    "Можно оценить объём данных о взаимодействиях"
   ]
  },
  {
   "cell_type": "code",
   "execution_count": 7,
   "id": "92d745e7-5dfb-4fff-98a3-acfc422bed50",
   "metadata": {},
   "outputs": [
    {
     "name": "stdout",
     "output_type": "stream",
     "text": [
      "<class 'pandas.core.frame.DataFrame'>\n",
      "Index: 12890434 entries, 0 to 12914458\n",
      "Data columns (total 7 columns):\n",
      " #   Column       Dtype \n",
      "---  ------       ----- \n",
      " 0   user_id      object\n",
      " 1   book_id      int64 \n",
      " 2   started_at   object\n",
      " 3   read_at      object\n",
      " 4   is_read      bool  \n",
      " 5   rating       int64 \n",
      " 6   is_reviewed  bool  \n",
      "dtypes: bool(2), int64(2), object(3)\n",
      "memory usage: 614.7+ MB\n"
     ]
    }
   ],
   "source": [
    "interactions.info()"
   ]
  },
  {
   "cell_type": "markdown",
   "id": "2db1630c-a924-4c4f-9817-5c13591a5e85",
   "metadata": {},
   "source": [
    "Пример данных по взаимодействиям"
   ]
  },
  {
   "cell_type": "code",
   "execution_count": 8,
   "id": "2b1c5dfb-6900-49ad-b996-9b3e615ef9c4",
   "metadata": {},
   "outputs": [
    {
     "name": "stdout",
     "output_type": "stream",
     "text": [
      "                                           started_at     read_at  is_read  rating\n",
      "user_id                          book_id                                          \n",
      "0447747f44c0d8d1a08cf329fe253f29 10054335  2016-04-08  2016-04-20     True       3\n",
      "14432756ffba6357686f09e4ccc332bb 26252859  2016-05-27  2016-05-30     True       5\n",
      "46d6c8cf548d1c86abb671f42ba71b5e 960       2014-08-06  2016-10-29     True       5\n",
      "71c2b3714945af1f700f49953904c510 18492859  2014-10-09  2014-10-12     True       5\n",
      "7802bafdeac8abff23a72b9dd60b1dd1 18710190  2015-03-01  2015-05-05     True       4\n"
     ]
    }
   ],
   "source": [
    "print(interactions[[\"user_id\", \"book_id\", \"started_at\", \"read_at\", \"is_read\", \"rating\"]].sample(5, random_state=52).sort_values(\"user_id\").set_index([\"user_id\", \"book_id\"]).to_string())"
   ]
  },
  {
   "cell_type": "markdown",
   "id": "c4050b3d-c198-43be-a989-e99204b1725b",
   "metadata": {},
   "source": [
    "# EDA"
   ]
  },
  {
   "cell_type": "markdown",
   "id": "704ff053-4357-4b72-88fb-33d5edef8203",
   "metadata": {},
   "source": [
    "Посмотрим на данные о книгах, какие поля есть."
   ]
  },
  {
   "cell_type": "code",
   "execution_count": 9,
   "id": "ffba02f2-e81d-4c53-9e7e-f631a706849c",
   "metadata": {},
   "outputs": [
    {
     "data": {
      "text/html": [
       "<div>\n",
       "<style scoped>\n",
       "    .dataframe tbody tr th:only-of-type {\n",
       "        vertical-align: middle;\n",
       "    }\n",
       "\n",
       "    .dataframe tbody tr th {\n",
       "        vertical-align: top;\n",
       "    }\n",
       "\n",
       "    .dataframe thead th {\n",
       "        text-align: right;\n",
       "    }\n",
       "</style>\n",
       "<table border=\"1\" class=\"dataframe\">\n",
       "  <thead>\n",
       "    <tr style=\"text-align: right;\">\n",
       "      <th></th>\n",
       "      <th>996506</th>\n",
       "      <th>719996</th>\n",
       "      <th>723730</th>\n",
       "    </tr>\n",
       "  </thead>\n",
       "  <tbody>\n",
       "    <tr>\n",
       "      <th>book_id</th>\n",
       "      <td>6064635</td>\n",
       "      <td>703055</td>\n",
       "      <td>6096231</td>\n",
       "    </tr>\n",
       "    <tr>\n",
       "      <th>author</th>\n",
       "      <td>Janet Lee Carey</td>\n",
       "      <td>Christine Aziz</td>\n",
       "      <td>P.W. Catanese</td>\n",
       "    </tr>\n",
       "    <tr>\n",
       "      <th>title</th>\n",
       "      <td>Stealing Death</td>\n",
       "      <td>The Olive Readers</td>\n",
       "      <td>Happenstance Found (The Books of Umber, #1)</td>\n",
       "    </tr>\n",
       "    <tr>\n",
       "      <th>description</th>\n",
       "      <td>\"I want that soul sack,\" he said suddenly.\\n\"W...</td>\n",
       "      <td></td>\n",
       "      <td>Twelve-year-old Happenstance awakens in a cave...</td>\n",
       "    </tr>\n",
       "    <tr>\n",
       "      <th>genre_and_votes</th>\n",
       "      <td>{'Fantasy': 20, 'Young Adult': 11, 'Fantasy-My...</td>\n",
       "      <td>{'Fiction': 17, 'Science Fiction': 10, 'Fantas...</td>\n",
       "      <td>{'Fantasy': 282, 'Young Adult': 60, 'Adventure...</td>\n",
       "    </tr>\n",
       "    <tr>\n",
       "      <th>num_pages</th>\n",
       "      <td>368</td>\n",
       "      <td>&lt;NA&gt;</td>\n",
       "      <td>&lt;NA&gt;</td>\n",
       "    </tr>\n",
       "    <tr>\n",
       "      <th>average_rating</th>\n",
       "      <td>3.49</td>\n",
       "      <td>3.15</td>\n",
       "      <td>3.99</td>\n",
       "    </tr>\n",
       "    <tr>\n",
       "      <th>ratings_count</th>\n",
       "      <td>162</td>\n",
       "      <td>282</td>\n",
       "      <td>3999</td>\n",
       "    </tr>\n",
       "    <tr>\n",
       "      <th>text_reviews_count</th>\n",
       "      <td>34</td>\n",
       "      <td>41</td>\n",
       "      <td>302</td>\n",
       "    </tr>\n",
       "    <tr>\n",
       "      <th>publisher</th>\n",
       "      <td>EgmontUSA</td>\n",
       "      <td></td>\n",
       "      <td></td>\n",
       "    </tr>\n",
       "    <tr>\n",
       "      <th>publication_year</th>\n",
       "      <td>2009</td>\n",
       "      <td>&lt;NA&gt;</td>\n",
       "      <td>&lt;NA&gt;</td>\n",
       "    </tr>\n",
       "    <tr>\n",
       "      <th>country_code</th>\n",
       "      <td>US</td>\n",
       "      <td>US</td>\n",
       "      <td>US</td>\n",
       "    </tr>\n",
       "    <tr>\n",
       "      <th>language_code</th>\n",
       "      <td></td>\n",
       "      <td></td>\n",
       "      <td></td>\n",
       "    </tr>\n",
       "    <tr>\n",
       "      <th>format</th>\n",
       "      <td>Hardcover</td>\n",
       "      <td></td>\n",
       "      <td></td>\n",
       "    </tr>\n",
       "    <tr>\n",
       "      <th>is_ebook</th>\n",
       "      <td>False</td>\n",
       "      <td>False</td>\n",
       "      <td>False</td>\n",
       "    </tr>\n",
       "    <tr>\n",
       "      <th>isbn</th>\n",
       "      <td>1606840096</td>\n",
       "      <td>0330439634</td>\n",
       "      <td>1416975195</td>\n",
       "    </tr>\n",
       "    <tr>\n",
       "      <th>isbn13</th>\n",
       "      <td>9781606840092</td>\n",
       "      <td>9780330439633</td>\n",
       "      <td>9781416975199</td>\n",
       "    </tr>\n",
       "    <tr>\n",
       "      <th>genre_and_votes_dict</th>\n",
       "      <td>{'Academic': None, 'Academic-Academia': None, ...</td>\n",
       "      <td>{'Academic': None, 'Academic-Academia': None, ...</td>\n",
       "      <td>{'Academic': None, 'Academic-Academia': None, ...</td>\n",
       "    </tr>\n",
       "    <tr>\n",
       "      <th>genre_and_votes_str</th>\n",
       "      <td>Fantasy 20, Young Adult 11, Fantasy-Mythology ...</td>\n",
       "      <td>Fiction 17, Science Fiction 10, Fantasy 8, Sci...</td>\n",
       "      <td>Fantasy 282, Young Adult 60, Adventure 53, Chi...</td>\n",
       "    </tr>\n",
       "  </tbody>\n",
       "</table>\n",
       "</div>"
      ],
      "text/plain": [
       "                                                                 996506  \\\n",
       "book_id                                                         6064635   \n",
       "author                                                  Janet Lee Carey   \n",
       "title                                                    Stealing Death   \n",
       "description           \"I want that soul sack,\" he said suddenly.\\n\"W...   \n",
       "genre_and_votes       {'Fantasy': 20, 'Young Adult': 11, 'Fantasy-My...   \n",
       "num_pages                                                           368   \n",
       "average_rating                                                     3.49   \n",
       "ratings_count                                                       162   \n",
       "text_reviews_count                                                   34   \n",
       "publisher                                                     EgmontUSA   \n",
       "publication_year                                                   2009   \n",
       "country_code                                                         US   \n",
       "language_code                                                             \n",
       "format                                                        Hardcover   \n",
       "is_ebook                                                          False   \n",
       "isbn                                                         1606840096   \n",
       "isbn13                                                    9781606840092   \n",
       "genre_and_votes_dict  {'Academic': None, 'Academic-Academia': None, ...   \n",
       "genre_and_votes_str   Fantasy 20, Young Adult 11, Fantasy-Mythology ...   \n",
       "\n",
       "                                                                 719996  \\\n",
       "book_id                                                          703055   \n",
       "author                                                   Christine Aziz   \n",
       "title                                                 The Olive Readers   \n",
       "description                                                               \n",
       "genre_and_votes       {'Fiction': 17, 'Science Fiction': 10, 'Fantas...   \n",
       "num_pages                                                          <NA>   \n",
       "average_rating                                                     3.15   \n",
       "ratings_count                                                       282   \n",
       "text_reviews_count                                                   41   \n",
       "publisher                                                                 \n",
       "publication_year                                                   <NA>   \n",
       "country_code                                                         US   \n",
       "language_code                                                             \n",
       "format                                                                    \n",
       "is_ebook                                                          False   \n",
       "isbn                                                         0330439634   \n",
       "isbn13                                                    9780330439633   \n",
       "genre_and_votes_dict  {'Academic': None, 'Academic-Academia': None, ...   \n",
       "genre_and_votes_str   Fiction 17, Science Fiction 10, Fantasy 8, Sci...   \n",
       "\n",
       "                                                                 723730  \n",
       "book_id                                                         6096231  \n",
       "author                                                    P.W. Catanese  \n",
       "title                       Happenstance Found (The Books of Umber, #1)  \n",
       "description           Twelve-year-old Happenstance awakens in a cave...  \n",
       "genre_and_votes       {'Fantasy': 282, 'Young Adult': 60, 'Adventure...  \n",
       "num_pages                                                          <NA>  \n",
       "average_rating                                                     3.99  \n",
       "ratings_count                                                      3999  \n",
       "text_reviews_count                                                  302  \n",
       "publisher                                                                \n",
       "publication_year                                                   <NA>  \n",
       "country_code                                                         US  \n",
       "language_code                                                            \n",
       "format                                                                   \n",
       "is_ebook                                                          False  \n",
       "isbn                                                         1416975195  \n",
       "isbn13                                                    9781416975199  \n",
       "genre_and_votes_dict  {'Academic': None, 'Academic-Academia': None, ...  \n",
       "genre_and_votes_str   Fantasy 282, Young Adult 60, Adventure 53, Chi...  "
      ]
     },
     "execution_count": 9,
     "metadata": {},
     "output_type": "execute_result"
    }
   ],
   "source": [
    "books.sample(3).T"
   ]
  },
  {
   "cell_type": "markdown",
   "id": "31195f60-57e2-48f6-9f2d-6c485a79b75a",
   "metadata": {},
   "source": [
    "Посмотрим на данные о взаимодействиях пользователей с книгами."
   ]
  },
  {
   "cell_type": "code",
   "execution_count": 10,
   "id": "2f06d310-9a2d-4c56-89b7-926e8105b851",
   "metadata": {},
   "outputs": [
    {
     "data": {
      "text/plain": [
       "43312"
      ]
     },
     "execution_count": 10,
     "metadata": {},
     "output_type": "execute_result"
    }
   ],
   "source": [
    "books[\"book_id\"].nunique()"
   ]
  },
  {
   "cell_type": "code",
   "execution_count": 11,
   "id": "3289d3a3-28f3-49b2-badd-66f2d8f7c0a0",
   "metadata": {},
   "outputs": [
    {
     "name": "stderr",
     "output_type": "stream",
     "text": [
      "/tmp/ipykernel_2428/2874937594.py:10: RuntimeWarning: Engine has switched to 'python' because numexpr does not support extension array dtypes. Please set your engine to python manually.\n",
      "  books.query(\"publication_year >= 1900 and publication_year <= 2025\")[\"publication_year\"].value_counts().sort_index().plot(kind=\"bar\", ax=ax)\n"
     ]
    }
   ],
   "source": [
    "# распределение книг по годам публикации\n",
    "\n",
    "fig, axs = plt.subplots(2, 1, figsize=(12, 6))\n",
    "\n",
    "ax = axs[0]\n",
    "books[\"publication_year\"].value_counts().sort_index().plot(kind=\"bar\", ax=ax)\n",
    "ax.tick_params(axis='x', labelsize=8)\n",
    "\n",
    "ax = axs[1]\n",
    "books.query(\"publication_year >= 1900 and publication_year <= 2025\")[\"publication_year\"].value_counts().sort_index().plot(kind=\"bar\", ax=ax)\n",
    "ax.tick_params(axis='x', labelsize=8)\n",
    "\n",
    "fig.tight_layout()"
   ]
  },
  {
   "cell_type": "markdown",
   "id": "bd4c285c-dc85-430e-965e-bfae06468cb3",
   "metadata": {},
   "source": [
    "# События по месяцам"
   ]
  },
  {
   "cell_type": "code",
   "execution_count": 12,
   "id": "a64f6bb4-ddf9-4573-a78f-a8616d32c89b",
   "metadata": {},
   "outputs": [],
   "source": [
    "from pandas.tseries.offsets import MonthEnd\n",
    "\n",
    "interactions[\"started_at_month\"] = pd.to_datetime(interactions[\"started_at\"]).dt.to_period('M').dt.to_timestamp().dt.date"
   ]
  },
  {
   "cell_type": "code",
   "execution_count": 13,
   "id": "7d24e57d-0d39-4691-bdc2-c7f152bbb86d",
   "metadata": {},
   "outputs": [],
   "source": [
    "interactions_by_month = interactions.groupby(\"started_at_month\").agg(events=(\"started_at\", \"count\"), users=(\"user_id\", \"nunique\")).reset_index()"
   ]
  },
  {
   "cell_type": "code",
   "execution_count": 14,
   "id": "290b4924-cdb4-45f8-83bb-34c9feef6ab3",
   "metadata": {},
   "outputs": [
    {
     "data": {
      "text/html": [
       "<div>\n",
       "<style scoped>\n",
       "    .dataframe tbody tr th:only-of-type {\n",
       "        vertical-align: middle;\n",
       "    }\n",
       "\n",
       "    .dataframe tbody tr th {\n",
       "        vertical-align: top;\n",
       "    }\n",
       "\n",
       "    .dataframe thead th {\n",
       "        text-align: right;\n",
       "    }\n",
       "</style>\n",
       "<table border=\"1\" class=\"dataframe\">\n",
       "  <thead>\n",
       "    <tr style=\"text-align: right;\">\n",
       "      <th></th>\n",
       "      <th>started_at_month</th>\n",
       "      <th>events</th>\n",
       "      <th>users</th>\n",
       "    </tr>\n",
       "  </thead>\n",
       "  <tbody>\n",
       "    <tr>\n",
       "      <th>0</th>\n",
       "      <td>2007-01-01</td>\n",
       "      <td>1993</td>\n",
       "      <td>1071</td>\n",
       "    </tr>\n",
       "    <tr>\n",
       "      <th>1</th>\n",
       "      <td>2007-02-01</td>\n",
       "      <td>201</td>\n",
       "      <td>135</td>\n",
       "    </tr>\n",
       "    <tr>\n",
       "      <th>2</th>\n",
       "      <td>2007-03-01</td>\n",
       "      <td>222</td>\n",
       "      <td>152</td>\n",
       "    </tr>\n",
       "    <tr>\n",
       "      <th>3</th>\n",
       "      <td>2007-04-01</td>\n",
       "      <td>201</td>\n",
       "      <td>135</td>\n",
       "    </tr>\n",
       "    <tr>\n",
       "      <th>4</th>\n",
       "      <td>2007-05-01</td>\n",
       "      <td>204</td>\n",
       "      <td>138</td>\n",
       "    </tr>\n",
       "    <tr>\n",
       "      <th>...</th>\n",
       "      <td>...</td>\n",
       "      <td>...</td>\n",
       "      <td>...</td>\n",
       "    </tr>\n",
       "    <tr>\n",
       "      <th>127</th>\n",
       "      <td>2017-08-01</td>\n",
       "      <td>202129</td>\n",
       "      <td>93040</td>\n",
       "    </tr>\n",
       "    <tr>\n",
       "      <th>128</th>\n",
       "      <td>2017-09-01</td>\n",
       "      <td>172187</td>\n",
       "      <td>82694</td>\n",
       "    </tr>\n",
       "    <tr>\n",
       "      <th>129</th>\n",
       "      <td>2017-10-01</td>\n",
       "      <td>108107</td>\n",
       "      <td>58076</td>\n",
       "    </tr>\n",
       "    <tr>\n",
       "      <th>130</th>\n",
       "      <td>2017-11-01</td>\n",
       "      <td>565</td>\n",
       "      <td>475</td>\n",
       "    </tr>\n",
       "    <tr>\n",
       "      <th>131</th>\n",
       "      <td>2017-12-01</td>\n",
       "      <td>34</td>\n",
       "      <td>34</td>\n",
       "    </tr>\n",
       "  </tbody>\n",
       "</table>\n",
       "<p>132 rows × 3 columns</p>\n",
       "</div>"
      ],
      "text/plain": [
       "    started_at_month  events  users\n",
       "0         2007-01-01    1993   1071\n",
       "1         2007-02-01     201    135\n",
       "2         2007-03-01     222    152\n",
       "3         2007-04-01     201    135\n",
       "4         2007-05-01     204    138\n",
       "..               ...     ...    ...\n",
       "127       2017-08-01  202129  93040\n",
       "128       2017-09-01  172187  82694\n",
       "129       2017-10-01  108107  58076\n",
       "130       2017-11-01     565    475\n",
       "131       2017-12-01      34     34\n",
       "\n",
       "[132 rows x 3 columns]"
      ]
     },
     "execution_count": 14,
     "metadata": {},
     "output_type": "execute_result"
    }
   ],
   "source": [
    "interactions_by_month"
   ]
  },
  {
   "cell_type": "code",
   "execution_count": 15,
   "id": "b0523dde-3788-426a-ae32-08d557d65124",
   "metadata": {},
   "outputs": [],
   "source": [
    "# распределение взаимодействий по годам\n",
    "\n",
    "fig, axs = plt.subplots(2, 1, figsize=(12, 6))\n",
    "\n",
    "ax = axs[0]\n",
    "ax.plot(interactions_by_month[\"started_at_month\"], interactions_by_month[\"events\"])\n",
    "# ax.tick_params(axis='x', labelsize=8)\n",
    "ax.set_title(\"#events by months\")\n",
    "\n",
    "ax = axs[1]\n",
    "ax.plot(interactions_by_month[\"started_at_month\"], interactions_by_month[\"users\"])\n",
    "# ax.tick_params(axis='x', labelsize=8)\n",
    "ax.set_title(\"#users by months\")\n",
    "\n",
    "fig.tight_layout()"
   ]
  },
  {
   "cell_type": "markdown",
   "id": "5007ba55-80ce-4e9a-a72a-3586d0328bb8",
   "metadata": {},
   "source": [
    "# Преобработка"
   ]
  },
  {
   "cell_type": "markdown",
   "id": "74dd91e9-6298-4dfb-8e93-41d8d6f0af6c",
   "metadata": {},
   "source": [
    "Примем новые именования:\n",
    "- books -> items (более обобщённое название)\n",
    "- interactions -> events (несколько короче, удобнее в коде)"
   ]
  },
  {
   "cell_type": "code",
   "execution_count": 16,
   "id": "a97795e4-652c-4d87-a2c8-01d7756ee9af",
   "metadata": {},
   "outputs": [],
   "source": [
    "items = books.copy()\n",
    "events = interactions.copy()"
   ]
  },
  {
   "cell_type": "code",
   "execution_count": 17,
   "id": "d44de218-ed47-4b12-aef8-c0161f356002",
   "metadata": {},
   "outputs": [],
   "source": [
    "del books\n",
    "del interactions"
   ]
  },
  {
   "cell_type": "code",
   "execution_count": 18,
   "id": "2802d95e-314e-4802-851d-bb5d04e5c84b",
   "metadata": {},
   "outputs": [],
   "source": [
    "# оставим события только до ноября 2017\n",
    "\n",
    "event_cutoff_date = pd.to_datetime(\"2017-11-01\").date()\n",
    "events = events.query(\"started_at < @event_cutoff_date and read_at < @event_cutoff_date\").copy()"
   ]
  },
  {
   "cell_type": "markdown",
   "id": "9fb82342-c874-495f-8c0f-e2c6c1b68e2d",
   "metadata": {},
   "source": [
    "# Ваш код здесь"
   ]
  },
  {
   "cell_type": "code",
   "execution_count": 19,
   "id": "c06e3784",
   "metadata": {},
   "outputs": [],
   "source": [
    "events = events.query(\"rating > 0 and is_read == True\").copy()\n",
    "\n",
    "events = events[\n",
    "    events[\"user_id\"].isin(\n",
    "        events.groupby(\"user_id\").agg(\n",
    "            cnt = (\"book_id\", \"count\")\n",
    "        ).query(\"cnt > 1\").reset_index()[\"user_id\"]\n",
    "    )\n",
    "].reset_index(drop=True)\n"
   ]
  },
  {
   "cell_type": "code",
   "execution_count": 20,
   "id": "504fedda",
   "metadata": {},
   "outputs": [
    {
     "data": {
      "text/html": [
       "<div>\n",
       "<style scoped>\n",
       "    .dataframe tbody tr th:only-of-type {\n",
       "        vertical-align: middle;\n",
       "    }\n",
       "\n",
       "    .dataframe tbody tr th {\n",
       "        vertical-align: top;\n",
       "    }\n",
       "\n",
       "    .dataframe thead th {\n",
       "        text-align: right;\n",
       "    }\n",
       "</style>\n",
       "<table border=\"1\" class=\"dataframe\">\n",
       "  <thead>\n",
       "    <tr style=\"text-align: right;\">\n",
       "      <th></th>\n",
       "      <th>user_id</th>\n",
       "      <th>new_user_id</th>\n",
       "    </tr>\n",
       "  </thead>\n",
       "  <tbody>\n",
       "    <tr>\n",
       "      <th>241243</th>\n",
       "      <td>8f50136afeb65c55cec7b3d306c24b03</td>\n",
       "      <td>1241243</td>\n",
       "    </tr>\n",
       "  </tbody>\n",
       "</table>\n",
       "</div>"
      ],
      "text/plain": [
       "                                 user_id  new_user_id\n",
       "241243  8f50136afeb65c55cec7b3d306c24b03      1241243"
      ]
     },
     "execution_count": 20,
     "metadata": {},
     "output_type": "execute_result"
    }
   ],
   "source": [
    "new_keys = events[[\"user_id\"]].drop_duplicates().sort_values(\n",
    "    by=\"user_id\", ascending=True\n",
    ").reset_index(drop=True)\n",
    "new_keys[\"new_user_id\"] = new_keys.index + 1000000\n",
    "\n",
    "new_keys[new_keys.user_id == \"8f50136afeb65c55cec7b3d306c24b03\"]"
   ]
  },
  {
   "cell_type": "code",
   "execution_count": 21,
   "id": "56df72ed",
   "metadata": {},
   "outputs": [],
   "source": [
    "events[\"user_id\"] = events[\"user_id\"].map(new_keys.set_index(\"user_id\")[\"new_user_id\"])"
   ]
  },
  {
   "cell_type": "code",
   "execution_count": 26,
   "id": "4b61c821",
   "metadata": {},
   "outputs": [],
   "source": [
    "events = events.rename({\"book_id\":\"item_id\"}, axis=1)\n",
    "items = items.rename({\"book_id\":\"item_id\"}, axis=1)"
   ]
  },
  {
   "cell_type": "markdown",
   "id": "b707df95-b815-4002-814f-77c90b848688",
   "metadata": {},
   "source": [
    "# Сохранение результатов"
   ]
  },
  {
   "cell_type": "code",
   "execution_count": 27,
   "id": "5281284b-2574-43ca-8ddc-e8f1b2e4cac6",
   "metadata": {},
   "outputs": [],
   "source": [
    "items.to_parquet(\"items.par\")"
   ]
  },
  {
   "cell_type": "code",
   "execution_count": 28,
   "id": "b6579a5d-c7b7-4785-abd8-69f63f48151d",
   "metadata": {},
   "outputs": [],
   "source": [
    "events.to_parquet(\"events.par\")"
   ]
  },
  {
   "cell_type": "code",
   "execution_count": null,
   "id": "15fa321c-a44c-4e1d-869d-270afba261d0",
   "metadata": {},
   "outputs": [],
   "source": []
  }
 ],
 "metadata": {
  "kernelspec": {
   "display_name": "mle-recsys-start",
   "language": "python",
   "name": "python3"
  },
  "language_info": {
   "codemirror_mode": {
    "name": "ipython",
    "version": 3
   },
   "file_extension": ".py",
   "mimetype": "text/x-python",
   "name": "python",
   "nbconvert_exporter": "python",
   "pygments_lexer": "ipython3",
   "version": "3.10.12"
  }
 },
 "nbformat": 4,
 "nbformat_minor": 5
}
